{
 "cells": [
  {
   "cell_type": "markdown",
   "metadata": {},
   "source": [
    "# Programming Assignment 1\n",
    "# <span style=\"font-family: Arial; color: #2e86c1; font-size: 25px;\">Exploratory Data Analysis: Spotify Most Streamed Songs 2023</span>\n",
    "\n",
    "### <span style=\"font-family: Arial; color: darkslategray;\">By: Beanca A. Manaog & Julian Gabrielo B. Sales</span>\n",
    "### <span style=\"font-family: Arial; color: darkslategray;\">Subject: ECE Electives 1 - Emerging Technologies</span>\n",
    "\n",
    "<hr style=\"border: 1px solid #ccc;\" />\n",
    "\n",
    "\n",
    "<span style=\"color: green; font-weight: bold; font-size: large\">Introduction</span>\n",
    "#### In this assignment, we will perform an exploratory data analysis (EDA) on a dataset containing information about popular tracks from the Most Streamed Spotify Songs 2023. Our goal is to analyze, visualize, and interpret the data to extract meaningful insights."
   ]
  },
  {
   "cell_type": "code",
   "execution_count": 32,
   "metadata": {},
   "outputs": [],
   "source": [
    "# Required imports\n",
    "import matplotlib.pyplot as plt\n",
    "import numpy as np\n",
    "import pandas as pd\n",
    "import seaborn as sns\n",
    "from IPython.display import display, HTML\n",
    "\n",
    "# Load the dataset with a specified encoding\n",
    "df = pd.read_csv('spotify-2023.csv', encoding='ISO-8859-1')"
   ]
  },
  {
   "cell_type": "markdown",
   "metadata": {},
   "source": [
    "### <span style=\"color: #2e86c1; font-size: 24px;\">1. Overview of Dataset</span>\n",
    "\n",
    "#### 1.1 <span style=\"color: #5d6d7e;\">How many rows and columns does the dataset contain?</span>\n",
    "\n",
    "We can have an idea of how large the dataset is by running the code:"
   ]
  },
  {
   "cell_type": "code",
   "execution_count": 34,
   "metadata": {},
   "outputs": [
    {
     "name": "stdout",
     "output_type": "stream",
     "text": [
      "(953, 24)\n"
     ]
    }
   ],
   "source": [
    "print(df.shape)"
   ]
  },
  {
   "cell_type": "markdown",
   "metadata": {},
   "source": [
    "<span style=\"color: #B8860B; font-weight: bold\">Insight:</span>\n",
    "The dataset contains <span style=\"color: #3498db;\">953 rows</span> and <span style=\"color: #3498db;\">24 columns</span>. This gives us an idea of how large and detailed the dataset is, which is important for planning the analysis."
   ]
  },
  {
   "cell_type": "markdown",
   "metadata": {},
   "source": [
    "#### 1.2 <span style=\"color: #5d6d7e;\">What are the data types of each column? Are there any missing values?</span>\n",
    "\n",
    "We can have an idea of what types of data the dataset contains by running the code:"
   ]
  },
  {
   "cell_type": "code",
   "execution_count": 1,
   "metadata": {},
   "outputs": [
    {
     "data": {
      "text/html": [
       "<style type=\"text/css\">\n",
       "#T_9f650_row0_col0, #T_9f650_row0_col1, #T_9f650_row0_col2, #T_9f650_row1_col0, #T_9f650_row1_col1, #T_9f650_row1_col2, #T_9f650_row2_col0, #T_9f650_row2_col1, #T_9f650_row2_col2, #T_9f650_row3_col0, #T_9f650_row3_col1, #T_9f650_row3_col2, #T_9f650_row4_col0, #T_9f650_row4_col1, #T_9f650_row4_col2, #T_9f650_row5_col0, #T_9f650_row5_col1, #T_9f650_row5_col2, #T_9f650_row6_col0, #T_9f650_row6_col1, #T_9f650_row6_col2, #T_9f650_row7_col0, #T_9f650_row7_col1, #T_9f650_row7_col2, #T_9f650_row8_col0, #T_9f650_row8_col1, #T_9f650_row8_col2, #T_9f650_row9_col0, #T_9f650_row9_col1, #T_9f650_row9_col2, #T_9f650_row10_col0, #T_9f650_row10_col1, #T_9f650_row10_col2, #T_9f650_row11_col0, #T_9f650_row11_col1, #T_9f650_row11_col2, #T_9f650_row12_col0, #T_9f650_row12_col1, #T_9f650_row12_col2, #T_9f650_row14_col0, #T_9f650_row14_col1, #T_9f650_row14_col2, #T_9f650_row16_col0, #T_9f650_row16_col1, #T_9f650_row16_col2, #T_9f650_row17_col0, #T_9f650_row17_col1, #T_9f650_row17_col2, #T_9f650_row18_col0, #T_9f650_row18_col1, #T_9f650_row18_col2, #T_9f650_row19_col0, #T_9f650_row19_col1, #T_9f650_row19_col2, #T_9f650_row20_col0, #T_9f650_row20_col1, #T_9f650_row20_col2, #T_9f650_row21_col0, #T_9f650_row21_col1, #T_9f650_row21_col2, #T_9f650_row22_col0, #T_9f650_row22_col1, #T_9f650_row22_col2, #T_9f650_row23_col0, #T_9f650_row23_col1, #T_9f650_row23_col2 {\n",
       "  background-color: lightblue;\n",
       "}\n",
       "#T_9f650_row13_col0, #T_9f650_row13_col1, #T_9f650_row13_col2, #T_9f650_row15_col0, #T_9f650_row15_col1, #T_9f650_row15_col2 {\n",
       "  background-color: red;\n",
       "}\n",
       "</style>\n",
       "<table id=\"T_9f650\">\n",
       "  <thead>\n",
       "    <tr>\n",
       "      <th class=\"blank level0\" >&nbsp;</th>\n",
       "      <th id=\"T_9f650_level0_col0\" class=\"col_heading level0 col0\" >Column Name</th>\n",
       "      <th id=\"T_9f650_level0_col1\" class=\"col_heading level0 col1\" >Data Type</th>\n",
       "      <th id=\"T_9f650_level0_col2\" class=\"col_heading level0 col2\" >Missing Values</th>\n",
       "    </tr>\n",
       "  </thead>\n",
       "  <tbody>\n",
       "    <tr>\n",
       "      <th id=\"T_9f650_level0_row0\" class=\"row_heading level0 row0\" >0</th>\n",
       "      <td id=\"T_9f650_row0_col0\" class=\"data row0 col0\" >track_name</td>\n",
       "      <td id=\"T_9f650_row0_col1\" class=\"data row0 col1\" >object</td>\n",
       "      <td id=\"T_9f650_row0_col2\" class=\"data row0 col2\" >0</td>\n",
       "    </tr>\n",
       "    <tr>\n",
       "      <th id=\"T_9f650_level0_row1\" class=\"row_heading level0 row1\" >1</th>\n",
       "      <td id=\"T_9f650_row1_col0\" class=\"data row1 col0\" >artist(s)_name</td>\n",
       "      <td id=\"T_9f650_row1_col1\" class=\"data row1 col1\" >object</td>\n",
       "      <td id=\"T_9f650_row1_col2\" class=\"data row1 col2\" >0</td>\n",
       "    </tr>\n",
       "    <tr>\n",
       "      <th id=\"T_9f650_level0_row2\" class=\"row_heading level0 row2\" >2</th>\n",
       "      <td id=\"T_9f650_row2_col0\" class=\"data row2 col0\" >artist_count</td>\n",
       "      <td id=\"T_9f650_row2_col1\" class=\"data row2 col1\" >int64</td>\n",
       "      <td id=\"T_9f650_row2_col2\" class=\"data row2 col2\" >0</td>\n",
       "    </tr>\n",
       "    <tr>\n",
       "      <th id=\"T_9f650_level0_row3\" class=\"row_heading level0 row3\" >3</th>\n",
       "      <td id=\"T_9f650_row3_col0\" class=\"data row3 col0\" >released_year</td>\n",
       "      <td id=\"T_9f650_row3_col1\" class=\"data row3 col1\" >int64</td>\n",
       "      <td id=\"T_9f650_row3_col2\" class=\"data row3 col2\" >0</td>\n",
       "    </tr>\n",
       "    <tr>\n",
       "      <th id=\"T_9f650_level0_row4\" class=\"row_heading level0 row4\" >4</th>\n",
       "      <td id=\"T_9f650_row4_col0\" class=\"data row4 col0\" >released_month</td>\n",
       "      <td id=\"T_9f650_row4_col1\" class=\"data row4 col1\" >int64</td>\n",
       "      <td id=\"T_9f650_row4_col2\" class=\"data row4 col2\" >0</td>\n",
       "    </tr>\n",
       "    <tr>\n",
       "      <th id=\"T_9f650_level0_row5\" class=\"row_heading level0 row5\" >5</th>\n",
       "      <td id=\"T_9f650_row5_col0\" class=\"data row5 col0\" >released_day</td>\n",
       "      <td id=\"T_9f650_row5_col1\" class=\"data row5 col1\" >int64</td>\n",
       "      <td id=\"T_9f650_row5_col2\" class=\"data row5 col2\" >0</td>\n",
       "    </tr>\n",
       "    <tr>\n",
       "      <th id=\"T_9f650_level0_row6\" class=\"row_heading level0 row6\" >6</th>\n",
       "      <td id=\"T_9f650_row6_col0\" class=\"data row6 col0\" >in_spotify_playlists</td>\n",
       "      <td id=\"T_9f650_row6_col1\" class=\"data row6 col1\" >int64</td>\n",
       "      <td id=\"T_9f650_row6_col2\" class=\"data row6 col2\" >0</td>\n",
       "    </tr>\n",
       "    <tr>\n",
       "      <th id=\"T_9f650_level0_row7\" class=\"row_heading level0 row7\" >7</th>\n",
       "      <td id=\"T_9f650_row7_col0\" class=\"data row7 col0\" >in_spotify_charts</td>\n",
       "      <td id=\"T_9f650_row7_col1\" class=\"data row7 col1\" >int64</td>\n",
       "      <td id=\"T_9f650_row7_col2\" class=\"data row7 col2\" >0</td>\n",
       "    </tr>\n",
       "    <tr>\n",
       "      <th id=\"T_9f650_level0_row8\" class=\"row_heading level0 row8\" >8</th>\n",
       "      <td id=\"T_9f650_row8_col0\" class=\"data row8 col0\" >streams</td>\n",
       "      <td id=\"T_9f650_row8_col1\" class=\"data row8 col1\" >object</td>\n",
       "      <td id=\"T_9f650_row8_col2\" class=\"data row8 col2\" >0</td>\n",
       "    </tr>\n",
       "    <tr>\n",
       "      <th id=\"T_9f650_level0_row9\" class=\"row_heading level0 row9\" >9</th>\n",
       "      <td id=\"T_9f650_row9_col0\" class=\"data row9 col0\" >in_apple_playlists</td>\n",
       "      <td id=\"T_9f650_row9_col1\" class=\"data row9 col1\" >int64</td>\n",
       "      <td id=\"T_9f650_row9_col2\" class=\"data row9 col2\" >0</td>\n",
       "    </tr>\n",
       "    <tr>\n",
       "      <th id=\"T_9f650_level0_row10\" class=\"row_heading level0 row10\" >10</th>\n",
       "      <td id=\"T_9f650_row10_col0\" class=\"data row10 col0\" >in_apple_charts</td>\n",
       "      <td id=\"T_9f650_row10_col1\" class=\"data row10 col1\" >int64</td>\n",
       "      <td id=\"T_9f650_row10_col2\" class=\"data row10 col2\" >0</td>\n",
       "    </tr>\n",
       "    <tr>\n",
       "      <th id=\"T_9f650_level0_row11\" class=\"row_heading level0 row11\" >11</th>\n",
       "      <td id=\"T_9f650_row11_col0\" class=\"data row11 col0\" >in_deezer_playlists</td>\n",
       "      <td id=\"T_9f650_row11_col1\" class=\"data row11 col1\" >object</td>\n",
       "      <td id=\"T_9f650_row11_col2\" class=\"data row11 col2\" >0</td>\n",
       "    </tr>\n",
       "    <tr>\n",
       "      <th id=\"T_9f650_level0_row12\" class=\"row_heading level0 row12\" >12</th>\n",
       "      <td id=\"T_9f650_row12_col0\" class=\"data row12 col0\" >in_deezer_charts</td>\n",
       "      <td id=\"T_9f650_row12_col1\" class=\"data row12 col1\" >int64</td>\n",
       "      <td id=\"T_9f650_row12_col2\" class=\"data row12 col2\" >0</td>\n",
       "    </tr>\n",
       "    <tr>\n",
       "      <th id=\"T_9f650_level0_row13\" class=\"row_heading level0 row13\" >13</th>\n",
       "      <td id=\"T_9f650_row13_col0\" class=\"data row13 col0\" >in_shazam_charts</td>\n",
       "      <td id=\"T_9f650_row13_col1\" class=\"data row13 col1\" >object</td>\n",
       "      <td id=\"T_9f650_row13_col2\" class=\"data row13 col2\" >50</td>\n",
       "    </tr>\n",
       "    <tr>\n",
       "      <th id=\"T_9f650_level0_row14\" class=\"row_heading level0 row14\" >14</th>\n",
       "      <td id=\"T_9f650_row14_col0\" class=\"data row14 col0\" >bpm</td>\n",
       "      <td id=\"T_9f650_row14_col1\" class=\"data row14 col1\" >int64</td>\n",
       "      <td id=\"T_9f650_row14_col2\" class=\"data row14 col2\" >0</td>\n",
       "    </tr>\n",
       "    <tr>\n",
       "      <th id=\"T_9f650_level0_row15\" class=\"row_heading level0 row15\" >15</th>\n",
       "      <td id=\"T_9f650_row15_col0\" class=\"data row15 col0\" >key</td>\n",
       "      <td id=\"T_9f650_row15_col1\" class=\"data row15 col1\" >object</td>\n",
       "      <td id=\"T_9f650_row15_col2\" class=\"data row15 col2\" >95</td>\n",
       "    </tr>\n",
       "    <tr>\n",
       "      <th id=\"T_9f650_level0_row16\" class=\"row_heading level0 row16\" >16</th>\n",
       "      <td id=\"T_9f650_row16_col0\" class=\"data row16 col0\" >mode</td>\n",
       "      <td id=\"T_9f650_row16_col1\" class=\"data row16 col1\" >object</td>\n",
       "      <td id=\"T_9f650_row16_col2\" class=\"data row16 col2\" >0</td>\n",
       "    </tr>\n",
       "    <tr>\n",
       "      <th id=\"T_9f650_level0_row17\" class=\"row_heading level0 row17\" >17</th>\n",
       "      <td id=\"T_9f650_row17_col0\" class=\"data row17 col0\" >danceability_%</td>\n",
       "      <td id=\"T_9f650_row17_col1\" class=\"data row17 col1\" >int64</td>\n",
       "      <td id=\"T_9f650_row17_col2\" class=\"data row17 col2\" >0</td>\n",
       "    </tr>\n",
       "    <tr>\n",
       "      <th id=\"T_9f650_level0_row18\" class=\"row_heading level0 row18\" >18</th>\n",
       "      <td id=\"T_9f650_row18_col0\" class=\"data row18 col0\" >valence_%</td>\n",
       "      <td id=\"T_9f650_row18_col1\" class=\"data row18 col1\" >int64</td>\n",
       "      <td id=\"T_9f650_row18_col2\" class=\"data row18 col2\" >0</td>\n",
       "    </tr>\n",
       "    <tr>\n",
       "      <th id=\"T_9f650_level0_row19\" class=\"row_heading level0 row19\" >19</th>\n",
       "      <td id=\"T_9f650_row19_col0\" class=\"data row19 col0\" >energy_%</td>\n",
       "      <td id=\"T_9f650_row19_col1\" class=\"data row19 col1\" >int64</td>\n",
       "      <td id=\"T_9f650_row19_col2\" class=\"data row19 col2\" >0</td>\n",
       "    </tr>\n",
       "    <tr>\n",
       "      <th id=\"T_9f650_level0_row20\" class=\"row_heading level0 row20\" >20</th>\n",
       "      <td id=\"T_9f650_row20_col0\" class=\"data row20 col0\" >acousticness_%</td>\n",
       "      <td id=\"T_9f650_row20_col1\" class=\"data row20 col1\" >int64</td>\n",
       "      <td id=\"T_9f650_row20_col2\" class=\"data row20 col2\" >0</td>\n",
       "    </tr>\n",
       "    <tr>\n",
       "      <th id=\"T_9f650_level0_row21\" class=\"row_heading level0 row21\" >21</th>\n",
       "      <td id=\"T_9f650_row21_col0\" class=\"data row21 col0\" >instrumentalness_%</td>\n",
       "      <td id=\"T_9f650_row21_col1\" class=\"data row21 col1\" >int64</td>\n",
       "      <td id=\"T_9f650_row21_col2\" class=\"data row21 col2\" >0</td>\n",
       "    </tr>\n",
       "    <tr>\n",
       "      <th id=\"T_9f650_level0_row22\" class=\"row_heading level0 row22\" >22</th>\n",
       "      <td id=\"T_9f650_row22_col0\" class=\"data row22 col0\" >liveness_%</td>\n",
       "      <td id=\"T_9f650_row22_col1\" class=\"data row22 col1\" >int64</td>\n",
       "      <td id=\"T_9f650_row22_col2\" class=\"data row22 col2\" >0</td>\n",
       "    </tr>\n",
       "    <tr>\n",
       "      <th id=\"T_9f650_level0_row23\" class=\"row_heading level0 row23\" >23</th>\n",
       "      <td id=\"T_9f650_row23_col0\" class=\"data row23 col0\" >speechiness_%</td>\n",
       "      <td id=\"T_9f650_row23_col1\" class=\"data row23 col1\" >int64</td>\n",
       "      <td id=\"T_9f650_row23_col2\" class=\"data row23 col2\" >0</td>\n",
       "    </tr>\n",
       "  </tbody>\n",
       "</table>\n"
      ],
      "text/plain": [
       "<pandas.io.formats.style.Styler at 0x1fce2025a30>"
      ]
     },
     "metadata": {},
     "output_type": "display_data"
    }
   ],
   "source": [
    "import pandas as pd\n",
    "from IPython.display import display\n",
    "df = pd.read_csv('spotify-2023.csv', encoding='ISO-8859-1')\n",
    "\n",
    "# Get data types\n",
    "data_types = df.dtypes.reset_index()\n",
    "data_types.columns = ['Column Name', 'Data Type']\n",
    "\n",
    "# Get missing values\n",
    "missing_values = df.isnull().sum().reset_index()\n",
    "missing_values.columns = ['Column Name', 'Missing Values']\n",
    "\n",
    "# Merge both DataFrames\n",
    "summary = pd.merge(data_types, missing_values, on='Column Name')\n",
    "\n",
    "# Define the highlight function\n",
    "def highlight_missing(row):\n",
    "    if row['Missing Values'] > 0:\n",
    "        return ['background-color: red'] * len(row)\n",
    "    else:\n",
    "        return ['background-color: lightblue'] * len(row)\n",
    "\n",
    "# Apply the styling\n",
    "styled_summary = summary.style.apply(highlight_missing, axis=1)\n",
    "\n",
    "# Display the styled DataFrame\n",
    "display(styled_summary)\n"
   ]
  },
  {
   "cell_type": "markdown",
   "metadata": {},
   "source": [
    "<span style=\"color: #B8860B; font-weight: bold\">Insight:</span>\n",
    "The dataset consists of various data types such as integers, floats, and strings. We also find that there are <span style=\"color: #3498db;\">2 columns</span> with missing values, \"in_shazam_charts which has 50 missing values, and \"key\" column which has 95 missing values, both are marked with red that need further investigation before analysis."
   ]
  },
  {
   "cell_type": "markdown",
   "metadata": {},
   "source": [
    "### <span style=\"color: #2e86c1; font-size: 24px;\">2. Basic Descriptive Statistics</span>\n",
    "\n",
    "#### 2.1 <span style=\"color: #5d6d7e;\"> What are the mean, median, and standard deviation of the streams column?</span>\n",
    "\n",
    "We can have an idea of what the is mean, median, and standard deviation of the streams column by running the code:"
   ]
  },
  {
   "cell_type": "code",
   "execution_count": 40,
   "metadata": {},
   "outputs": [
    {
     "data": {
      "text/html": [
       "<h2 style=\"color: #2e86c1;\">Basic Descriptive Statistics</h2>"
      ],
      "text/plain": [
       "<IPython.core.display.HTML object>"
      ]
     },
     "metadata": {},
     "output_type": "display_data"
    },
    {
     "data": {
      "text/html": [
       "<div>\n",
       "<style scoped>\n",
       "    .dataframe tbody tr th:only-of-type {\n",
       "        vertical-align: middle;\n",
       "    }\n",
       "\n",
       "    .dataframe tbody tr th {\n",
       "        vertical-align: top;\n",
       "    }\n",
       "\n",
       "    .dataframe thead th {\n",
       "        text-align: right;\n",
       "    }\n",
       "</style>\n",
       "<table border=\"1\" class=\"dataframe\">\n",
       "  <thead>\n",
       "    <tr style=\"text-align: right;\">\n",
       "      <th></th>\n",
       "      <th>Statistic</th>\n",
       "      <th>Value</th>\n",
       "    </tr>\n",
       "  </thead>\n",
       "  <tbody>\n",
       "    <tr>\n",
       "      <th>0</th>\n",
       "      <td>Mean</td>\n",
       "      <td>5.141374e+08</td>\n",
       "    </tr>\n",
       "    <tr>\n",
       "      <th>1</th>\n",
       "      <td>Median</td>\n",
       "      <td>2.905309e+08</td>\n",
       "    </tr>\n",
       "    <tr>\n",
       "      <th>2</th>\n",
       "      <td>Standard Deviation</td>\n",
       "      <td>5.668569e+08</td>\n",
       "    </tr>\n",
       "  </tbody>\n",
       "</table>\n",
       "</div>"
      ],
      "text/plain": [
       "            Statistic         Value\n",
       "0                Mean  5.141374e+08\n",
       "1              Median  2.905309e+08\n",
       "2  Standard Deviation  5.668569e+08"
      ]
     },
     "metadata": {},
     "output_type": "display_data"
    }
   ],
   "source": [
    "# Convert the 'streams' column to numeric, coercing errors\n",
    "df['streams'] = pd.to_numeric(df['streams'], errors='coerce')\n",
    "\n",
    "# Calculate the mean, median, and standard deviation of the 'streams' column \n",
    "mean_streams = df['streams'].mean()\n",
    "median_streams = df['streams'].median()\n",
    "std_streams = df['streams'].std()\n",
    "\n",
    "# Create a summary DataFrame for display\n",
    "summary_df = pd.DataFrame({\n",
    "    'Statistic': ['Mean', 'Median', 'Standard Deviation'],\n",
    "    'Value': [mean_streams, median_streams, std_streams]\n",
    "})\n",
    "\n",
    "# Display the header and summary statistics\n",
    "display(HTML('<h2 style=\"color: #2e86c1;\">Basic Descriptive Statistics</h2>'))\n",
    "display(summary_df)"
   ]
  },
  {
   "cell_type": "markdown",
   "metadata": {},
   "source": [
    "<span style=\"color: #B8860B; font-weight: bold\">Insight:</span>\n",
    "\n",
    "From this output, we can say that the average number of streams (approximately 514,137,400) is significantly higher than the median (around 290,530,900), indicating a positive skew in the data. This suggests that while most tracks have lower stream counts, a few popular tracks drive the average up, resulting in a high standard deviation (approximately 566,856,900) that reflects considerable variability in stream counts. With this, the data may contain outliers, highlighting the need for further analysis to understand the distribution and identify any tracks with exceptionally high or low streams."
   ]
  },
  {
   "cell_type": "markdown",
   "metadata": {},
   "source": [
    "#### 2.2 <span style=\"color: #5d6d7e;\">What is the distribution of released_year and artist_count? Are there any noticeable trends or outliers?</span>\n",
    "\n",
    "<span style=\"color: #5d6d7e;\">Plot: Distribution of Released Year</span>"
   ]
  },
  {
   "cell_type": "code",
   "execution_count": 43,
   "metadata": {},
   "outputs": [
    {
     "data": {
      "image/png": "[encoded data removed]",
      "text/plain": [
       "<Figure size 1000x600 with 1 Axes>"
      ]
     },
     "metadata": {},
     "output_type": "display_data"
    }
   ],
   "source": [
    "# Set the style for the plot\n",
    "sns.set(style='whitegrid')\n",
    "\n",
    "# Plot the distribution of 'released_year'\n",
    "plt.figure(figsize=(10, 6))\n",
    "sns.histplot(df['released_year'], bins=20, kde=True, color='lightgreen')\n",
    "\n",
    "# Add title and labels with improved formatting\n",
    "plt.title('Distribution of Released Year', fontsize=16, color='darkgreen')\n",
    "plt.xlabel('Released Year', fontsize=14)\n",
    "plt.ylabel('Count', fontsize=14)\n",
    "\n",
    "# Enhance grid visibility\n",
    "plt.grid(True, linestyle='--', alpha=0.7)\n",
    "\n",
    "# Show the plot\n",
    "plt.show()"
   ]
  },
  {
   "cell_type": "markdown",
   "metadata": {},
   "source": [
    "<span style=\"color: #B8860B; font-weight: bold\">Insight:</span>\n",
    "\n",
    "The released year distribution shows clear trends in music production. We can see in the plot that the data set garnered most of its songs from those release in 2010 onwards, spiking in the following years of 2020. Peaks highlight years with significant releases, suggesting impactful moments in the industry, while dips indicate quieter periods. This pattern helps us understand how the spotify users listen to songs that are freshly released.\n",
    "\n",
    "\n",
    "<span style=\"color: #5d6d7e;\">Plot: Distribution of Artist Count</span>"
   ]
  },
  {
   "cell_type": "code",
   "execution_count": 45,
   "metadata": {},
   "outputs": [
    {
     "data": {
      "image/png": "[encoded data removed]",
      "text/plain": [
       "<Figure size 1000x600 with 1 Axes>"
      ]
     },
     "metadata": {},
     "output_type": "display_data"
    }
   ],
   "source": [
    "# Plot the distribution of 'artist_count'\n",
    "plt.figure(figsize=(10, 6))\n",
    "sns.histplot(df['artist_count'], bins=10, kde=True, color='skyblue')\n",
    "plt.title('Distribution of Artist Count', fontsize=16, color='darkblue')\n",
    "plt.xlabel('Artist Count', fontsize=14)\n",
    "plt.ylabel('Frequency', fontsize=14)\n",
    "plt.grid(True, linestyle='--', alpha=0.7)\n",
    "plt.show()"
   ]
  },
  {
   "cell_type": "markdown",
   "metadata": {},
   "source": [
    "<span style=\"color: #B8860B; font-weight: bold\">Insight:</span>\n",
    "\n",
    "The plot suggests that most tracks that are listened to in the dataset are sung solo, meaning listeners choose to play songs that are sung by solo artists. Decreasingly, listeners also listen to songs that are sung by a duo, trio, and groups, respectively. "
   ]
  },
  {
   "cell_type": "markdown",
   "metadata": {},
   "source": [
    "### <span style=\"color: #2e86c1; font-size: 24px;\">3. Top Performers</span>\n",
    "\n",
    "#### 3.1 <span style=\"color: #5d6d7e;\"> What are the track that has the highest number of streams? Display the top 5 most streamed tracks.</span>\n",
    "\n",
    "\n",
    "We can have an idea of what the top 5 most-streamed tracks of 2023 are by running this code:"
   ]
  },
  {
   "cell_type": "code",
   "execution_count": 77,
   "metadata": {},
   "outputs": [
    {
     "data": {
      "text/html": [
       "\n",
       "<style>\n",
       "    .table {\n",
       "        width: 80%;\n",
       "        margin: 20px auto;\n",
       "        border-collapse: collapse;\n",
       "        font-family: Arial, sans-serif;\n",
       "    }\n",
       "    .table th, .table td {\n",
       "        border: 1px solid #dddddd;\n",
       "        text-align: left;\n",
       "        padding: 8px;\n",
       "    }\n",
       "    .table th {\n",
       "        background-color: #2e86c1;\n",
       "        color: white;\n",
       "    }\n",
       "    .table tr:nth-child(even) {\n",
       "        background-color: #f2f2f2;\n",
       "    }\n",
       "</style>\n",
       "<table border=\"1\" class=\"dataframe table table-striped\">\n",
       "  <thead>\n",
       "    <tr style=\"text-align: right;\">\n",
       "      <th>Track Name</th>\n",
       "      <th>Streams</th>\n",
       "    </tr>\n",
       "  </thead>\n",
       "  <tbody>\n",
       "    <tr>\n",
       "      <td>Blinding Lights</td>\n",
       "      <td>3703895074.0</td>\n",
       "    </tr>\n",
       "    <tr>\n",
       "      <td>Shape of You</td>\n",
       "      <td>3562543890.0</td>\n",
       "    </tr>\n",
       "    <tr>\n",
       "      <td>Someone You Loved</td>\n",
       "      <td>2887241814.0</td>\n",
       "    </tr>\n",
       "    <tr>\n",
       "      <td>Dance Monkey</td>\n",
       "      <td>2864791672.0</td>\n",
       "    </tr>\n",
       "    <tr>\n",
       "      <td>Sunflower - Spider-Man: Into the Spider-Verse</td>\n",
       "      <td>2808096550.0</td>\n",
       "    </tr>\n",
       "  </tbody>\n",
       "</table>"
      ],
      "text/plain": [
       "<IPython.core.display.HTML object>"
      ]
     },
     "metadata": {},
     "output_type": "display_data"
    }
   ],
   "source": [
    "import pandas as pd\n",
    "from IPython.display import display, HTML\n",
    "\n",
    "# Load the CSV file\n",
    "df = pd.read_csv('spotify-2023.csv', encoding='ISO-8859-1')\n",
    "\n",
    "# Prepare the top 5 tracks DataFrame, ensuring 'streams' is numeric\n",
    "df['streams'] = pd.to_numeric(df['streams'], errors='coerce')  # Convert to numeric, set errors to NaN\n",
    "df = df.dropna(subset=['streams'])  # Drop rows with NaN in 'streams'\n",
    "\n",
    "# Get the top 5 tracks\n",
    "top_5_tracks = df[['track_name', 'streams']].sort_values(by='streams', ascending=False).head(5)\n",
    "top_5_tracks.columns = ['Track Name', 'Streams']  # Set column names\n",
    "\n",
    "# Create a styled HTML table\n",
    "html_table = top_5_tracks.to_html(index=False, classes='table table-striped')\n",
    "\n",
    "# Add CSS for styling\n",
    "css = \"\"\"\n",
    "<style>\n",
    "    .table {\n",
    "        width: 80%;\n",
    "        margin: 20px auto;\n",
    "        border-collapse: collapse;\n",
    "        font-family: Arial, sans-serif;\n",
    "    }\n",
    "    .table th, .table td {\n",
    "        border: 1px solid #dddddd;\n",
    "        text-align: left;\n",
    "        padding: 8px;\n",
    "    }\n",
    "    .table th {\n",
    "        background-color: #2e86c1;\n",
    "        color: white;\n",
    "    }\n",
    "    .table tr:nth-child(even) {\n",
    "        background-color: #f2f2f2;\n",
    "    }\n",
    "</style>\n",
    "\"\"\"\n",
    "\n",
    "# Display the styled table\n",
    "display(HTML(css + html_table))\n",
    "\n",
    "\n"
   ]
  },
  {
   "cell_type": "markdown",
   "metadata": {},
   "source": [
    "<span style=\"color: #B8860B; font-weight: bold\">Insight:</span>\n",
    "\n",
    "The table reveals that the most streamed song of 2023 in Spotify was Blinding Lights, followed  by Shape of You, Someone You Loved, Dance Monkey, and Sunflower. These songs are the most popular and most-listened to songs on Spotify accounting to its number of streams. "
   ]
  },
  {
   "cell_type": "markdown",
   "metadata": {},
   "source": [
    "#### 3.2 <span style=\"color: #5d6d7e;\"> Who are the top 5 most frequent artists based on the number of tracks in the dataset? </span>\n",
    "\n",
    "\n",
    "We can have an idea of who the top 5 most frequent artists are by running this code:"
   ]
  },
  {
   "cell_type": "code",
   "execution_count": 66,
   "metadata": {},
   "outputs": [
    {
     "data": {
      "text/html": [
       "\n",
       "<style>\n",
       "    .table {\n",
       "        width: 80%;\n",
       "        margin: 20px auto;\n",
       "        border-collapse: collapse;\n",
       "        font-family: Arial, sans-serif;\n",
       "    }\n",
       "    .table th, .table td {\n",
       "        border: 1px solid #dddddd;\n",
       "        text-align: left;\n",
       "        padding: 10px;\n",
       "    }\n",
       "    .table th {\n",
       "        background-color: #007bff;\n",
       "        color: white;\n",
       "        font-size: 16px;\n",
       "    }\n",
       "    .table tr:nth-child(even) {\n",
       "        background-color: #f2f2f2;\n",
       "    }\n",
       "    .table tr:hover {\n",
       "        background-color: #d1ecf1;\n",
       "    }\n",
       "</style>\n",
       "<table border=\"1\" class=\"dataframe table table-striped\">\n",
       "  <thead>\n",
       "    <tr style=\"text-align: right;\">\n",
       "      <th>Artist Name</th>\n",
       "      <th>Track Count</th>\n",
       "    </tr>\n",
       "  </thead>\n",
       "  <tbody>\n",
       "    <tr>\n",
       "      <td>Taylor Swift</td>\n",
       "      <td>34</td>\n",
       "    </tr>\n",
       "    <tr>\n",
       "      <td>The Weeknd</td>\n",
       "      <td>22</td>\n",
       "    </tr>\n",
       "    <tr>\n",
       "      <td>Bad Bunny</td>\n",
       "      <td>19</td>\n",
       "    </tr>\n",
       "    <tr>\n",
       "      <td>SZA</td>\n",
       "      <td>19</td>\n",
       "    </tr>\n",
       "    <tr>\n",
       "      <td>Harry Styles</td>\n",
       "      <td>17</td>\n",
       "    </tr>\n",
       "  </tbody>\n",
       "</table>"
      ],
      "text/plain": [
       "<IPython.core.display.HTML object>"
      ]
     },
     "metadata": {},
     "output_type": "display_data"
    }
   ],
   "source": [
    "df = pd.read_csv('spotify-2023.csv', encoding='ISO-8859-1')\n",
    "from IPython.display import display, HTML\n",
    "\n",
    "# Prepare the top 5 artists DataFrame\n",
    "top_5_artists = df['artist(s)_name'].value_counts().head(5).reset_index()\n",
    "top_5_artists.columns = ['Artist Name', 'Track Count']\n",
    "\n",
    "# Create a styled HTML table\n",
    "html_table = top_5_artists.to_html(index=False, classes='table table-striped')\n",
    "\n",
    "# Add CSS for styling\n",
    "css = \"\"\"\n",
    "<style>\n",
    "    .table {\n",
    "        width: 80%;\n",
    "        margin: 20px auto;\n",
    "        border-collapse: collapse;\n",
    "        font-family: Arial, sans-serif;\n",
    "    }\n",
    "    .table th, .table td {\n",
    "        border: 1px solid #dddddd;\n",
    "        text-align: left;\n",
    "        padding: 10px;\n",
    "    }\n",
    "    .table th {\n",
    "        background-color: #007bff;\n",
    "        color: white;\n",
    "        font-size: 16px;\n",
    "    }\n",
    "    .table tr:nth-child(even) {\n",
    "        background-color: #f2f2f2;\n",
    "    }\n",
    "    .table tr:hover {\n",
    "        background-color: #d1ecf1;\n",
    "    }\n",
    "</style>\n",
    "\"\"\"\n",
    "\n",
    "# Display the styled table\n",
    "display(HTML(css + html_table))"
   ]
  },
  {
   "cell_type": "markdown",
   "metadata": {},
   "source": [
    "<span style=\"color: #B8860B; font-weight: bold\">Insight:</span>\n",
    "\n",
    "The table reveals that Taylor Swift bagged the most songs to be included in the most-listened to list in Spotify in the year 2023. This is because she released an album with 22 tracks, securing her top spot. She was followed by The Weeknd who released a live album the same year, Bad Bunny, SZA, who went on tour that year, and Harry Styles. "
   ]
  },
  {
   "cell_type": "markdown",
   "metadata": {},
   "source": [
    "### <span style=\"color: #2e86c1; font-size: 24px;\">4. Temporal Trends</span>\n",
    "\n",
    "#### 4.1 <span style=\"color: #5d6d7e;\"> Analyze the trends in number of tracks released over time. Plot the number of tracks released per year."
   ]
  },
  {
   "cell_type": "code",
   "execution_count": null,
   "metadata": {},
   "outputs": [],
   "source": [
    "# Ensure the 'released_year' column is numeric to prevent errors\n",
    "df['released_year'] = pd.to_numeric(df['released_year'], errors='coerce')\n",
    "\n",
    "# Drop rows with missing or invalid 'released_year' values\n",
    "df_cleaned = df.dropna(subset=['released_year'])\n",
    "\n",
    "# Group the data by year and count the number of tracks released each year\n",
    "tracks_per_year = df_cleaned.groupby('released_year').size().reset_index(name='track_count')\n",
    "\n",
    "\n",
    "# Create the plot\n",
    "plt.figure(figsize=(12, 6))\n",
    "plt.plot(tracks_per_year['released_year'], tracks_per_year['track_count'], \n",
    "         marker='o', linestyle='-', linewidth=2.5, markersize=8, color='#1f77b4', \n",
    "         markerfacecolor='#ff7f0e', markeredgewidth=2, markeredgecolor='black')\n",
    "\n",
    "\n",
    "plt.title('Number of Tracks Released Over Time', fontsize=16, fontweight='bold', color='#333333')\n",
    "plt.xlabel('Year', fontsize=14, fontweight='bold', color='#333333')\n",
    "plt.ylabel('Number of Tracks Released', fontsize=14, fontweight='bold', color='#333333')\n",
    "plt.xticks(rotation=45, fontsize=12)\n",
    "plt.yticks(fontsize=12)\n",
    "plt.grid(True, which='both', linestyle='--', linewidth=0.7, alpha=0.6)\n",
    "plt.tight_layout()\n",
    "plt.show()\n",
    "\n"
   ]
  },
  {
   "cell_type": "markdown",
   "metadata": {},
   "source": [
    "<span style=\"color: #B8860B; font-weight: bold\">Insight:</span>\n",
    "\n",
    "The number of tracks released stayed pretty low and steady from the 1940s until about 2000, then slowly started to grow. After 2020, there’s a huge spike, with over 400 tracks released in a year, likely because of more digital music and independent artists. After that peak, there’s a small drop, which could mean things are leveling out."
   ]
  },
  {
   "cell_type": "markdown",
   "metadata": {},
   "source": [
    "#### 4.2 <span style=\"color: #5d6d7e;\"> Does the number of tracks released per month follow any noticeable patterns? Which month sees the most releases?"
   ]
  },
  {
   "cell_type": "code",
   "execution_count": null,
   "metadata": {},
   "outputs": [],
   "source": [
    "import pandas as pd\n",
    "import matplotlib.pyplot as plt\n",
    "\n",
    "# Ensure the 'released_month' is numeric (if it's stored as string)\n",
    "df['released_month'] = pd.to_numeric(df['released_month'], errors='coerce')\n",
    "\n",
    "# Group by the released month and count the number of tracks released\n",
    "tracks_per_month = df.groupby('released_month').size().reset_index(name='track_count')\n",
    "\n",
    "# Map month numbers to month names for better readability\n",
    "tracks_per_month['released_month'] = tracks_per_month['released_month'].map({\n",
    "    1: 'January', 2: 'February', 3: 'March', 4: 'April',\n",
    "    5: 'May', 6: 'June', 7: 'July', 8: 'August',\n",
    "    9: 'September', 10: 'October', 11: 'November', 12: 'December'\n",
    "})\n",
    "\n",
    "# Create the plot\n",
    "plt.figure(figsize=(10, 6))\n",
    "\n",
    "\n",
    "plt.bar(tracks_per_month['released_month'], tracks_per_month['track_count'], \n",
    "        color='#4a90e2', edgecolor='none', width=0.6)\n",
    "\n",
    "\n",
    "plt.title('Tracks Released Per Month', fontsize=14, color='#333')\n",
    "plt.xlabel('Month', fontsize=12, color='#555')\n",
    "plt.ylabel('Number of Tracks', fontsize=12, color='#555')\n",
    "plt.xticks(rotation=45, fontsize=11, color='#333')\n",
    "plt.yticks(fontsize=11, color='#333')\n",
    "plt.grid(True, axis='y', linestyle='--', linewidth=0.5, alpha=0.6)\n",
    "sns.despine(left=True, right=True, top=True)\n",
    "plt.tight_layout()\n",
    "plt.show()\n",
    "\n",
    "# Identify the month with the most releases\n",
    "most_releases_month = tracks_per_month.loc[tracks_per_month['track_count'].idxmax()]\n",
    "print(f\"The month with the most releases is {most_releases_month['released_month']} with {most_releases_month['track_count']} tracks.\")\n"
   ]
  },
  {
   "cell_type": "markdown",
   "metadata": {},
   "source": [
    "<span style=\"color: #B8860B; font-weight: bold\">Insight:</span>\n",
    "\n",
    "From the chat above, the month with the most releases is January with 134 tracks. With that, it shows that January and May have the most track releases, with over 120 tracks each. August has the fewest releases, while the rest of the months show fairly consistent numbers. Overall, there’s a peak at the beginning and middle of the year, followed by a dip around August."
   ]
  },
  {
   "cell_type": "markdown",
   "metadata": {},
   "source": [
    "### <span style=\"color: #2e86c1; font-size: 24px;\">5. Genre and Music Characteristics</span>\n",
    "\n",
    "#### 5.1  <span style=\"color: #5d6d7e;\"> Examine the correlation between streams and musical attributes like bpm, danceability_%, and energy_%. Which attributes seem to influence streams the most?"
   ]
  },
  {
   "cell_type": "code",
   "execution_count": null,
   "metadata": {},
   "outputs": [],
   "source": [
    "# Ensure relevant columns ('streams', 'bpm', 'danceability_%', 'energy_%') are numeric\n",
    "df['streams'] = pd.to_numeric(df['streams'], errors='coerce')\n",
    "df['bpm'] = pd.to_numeric(df['bpm'], errors='coerce')\n",
    "df['danceability_%'] = pd.to_numeric(df['danceability_%'], errors='coerce')\n",
    "df['energy_%'] = pd.to_numeric(df['energy_%'], errors='coerce')\n",
    "\n",
    "# Drop rows with missing values in the relevant columns\n",
    "df_cleaned = df.dropna(subset=['streams', 'bpm', 'danceability_%', 'energy_%'])\n",
    "\n",
    "# Compute the correlation matrix\n",
    "correlation_data = df_cleaned[['streams', 'bpm', 'danceability_%', 'energy_%']]\n",
    "correlation_matrix = correlation_data.corr()\n",
    "\n",
    "# Create a styled HTML table\n",
    "html_table = correlation_matrix.to_html(classes='table')\n",
    "\n",
    "# Add minimalistic CSS for styling with better visibility\n",
    "css = \"\"\"\n",
    "<style>\n",
    "    .table {\n",
    "        width: 60%;\n",
    "        margin: 20px auto;\n",
    "        border-collapse: collapse;\n",
    "        font-family: Arial, sans-serif;\n",
    "        background-color: #f7f7f7;  /* Light background for the table */\n",
    "    }\n",
    "    .table th {\n",
    "        background-color: #e0e0e0;  /* Slightly darker header background */\n",
    "        font-weight: bold;\n",
    "        font-size: 14px;\n",
    "        color: #333;  /* Darker color for headers */\n",
    "    }\n",
    "    .table td {\n",
    "        background-color: #f9f9f9;  /* Slightly lighter than headers for contrast */\n",
    "        color: #1a1a1a;  /* Dark color for the values in the table cells */\n",
    "    }\n",
    "    .table th, .table td {\n",
    "        border: 1px solid #ccc;  /* Light gray border for better contrast */\n",
    "        text-align: center;\n",
    "        padding: 8px;\n",
    "    }\n",
    "    .table tr:nth-child(even) td {\n",
    "        background-color: #f1f1f1;  /* Subtle row striping */\n",
    "    }\n",
    "    .table tr:hover td {\n",
    "        background-color: #e9e9e9;  /* Light hover effect */\n",
    "    }\n",
    "</style>\n",
    "\"\"\"\n",
    "\n",
    "# Display the styled table\n",
    "display(HTML(css + html_table))\n"
   ]
  },
  {
   "cell_type": "markdown",
   "metadata": {},
   "source": [
    "<span style=\"color: #5d6d7e;\">Plot: Correlation between Streams and Musical Attributes</span>"
   ]
  },
  {
   "cell_type": "code",
   "execution_count": null,
   "metadata": {},
   "outputs": [],
   "source": [
    "# Create the plot\n",
    "plt.figure(figsize=(8, 6))\n",
    "sns.heatmap(correlation_matrix, annot=True, cmap='Blues', fmt='.2f')\n",
    "plt.title('Correlation between Streams and Musical Attributes')\n",
    "plt.show()\n",
    "\n",
    "# Identify the attribute with the highest absolute correlation to streams (ignoring streams itself)\n",
    "correlations = correlation_matrix['streams'].drop('streams')\n",
    "max_correlation_value = correlations.abs().max()  # Use the absolute value to find the largest correlation\n",
    "max_correlation_attribute = correlations.abs().idxmax()\n",
    "\n",
    "# Check if the maximum correlation is greater than a small threshold (like 0.1)\n",
    "threshold = 0.1\n",
    "if max_correlation_value > threshold:\n",
    "    print(f\"The musical attribute that influences streams the most is '{max_correlation_attribute}' with a correlation of {correlations[max_correlation_attribute]:.2f}.\")\n",
    "else:\n",
    "    print(\"None of the musical attributes have a significant influence on streams.\")"
   ]
  },
  {
   "cell_type": "markdown",
   "metadata": {},
   "source": [
    "<span style=\"color: #B8860B; font-weight: bold\">Insight:</span>\n",
    "\n",
    "From the correlation heatmap, none of the musical attributes (bpm, danceability_%, energy_%) seem to strongly influence streams, as all correlations are close to zero. The attribute with the highest negative correlation is danceability_% (-0.11), though this is still quite weak. In short, the data suggests that streams aren't strongly affected by bpm, danceability, or energy."
   ]
  },
  {
   "cell_type": "markdown",
   "metadata": {},
   "source": [
    "#### 5.2 <span style=\"color: #5d6d7e;\"> Is there a correlation between danceability_% and energy_%? How about valence_% and acousticness_%?"
   ]
  },
  {
   "cell_type": "markdown",
   "metadata": {},
   "source": [
    "#### Correlation between danceability_% and energy_%:"
   ]
  },
  {
   "cell_type": "code",
   "execution_count": null,
   "metadata": {},
   "outputs": [],
   "source": [
    "# Ensure relevant columns ('danceability_%', 'energy_%') are numeric\n",
    "df['danceability_%'] = pd.to_numeric(df['danceability_%'], errors='coerce')\n",
    "df['energy_%'] = pd.to_numeric(df['energy_%'], errors='coerce')\n",
    "\n",
    "# Drop rows with missing values in the relevant columns\n",
    "spotify_data_cleaned = df.dropna(subset=['danceability_%', 'energy_%'])\n",
    "\n",
    "# Compute the correlation between danceability_% and energy_%\n",
    "correlation_value = spotify_data_cleaned['danceability_%'].corr(spotify_data_cleaned['energy_%'])\n",
    "\n",
    "# Display the correlation value\n",
    "print(f\"Correlation between Danceability and Energy: {correlation_value:.2f}\")\n"
   ]
  },
  {
   "cell_type": "code",
   "execution_count": null,
   "metadata": {},
   "outputs": [],
   "source": [
    "# Visualize the correlation with a scatter plot\n",
    "plt.figure(figsize=(8, 6))\n",
    "sns.scatterplot(x='danceability_%', y='energy_%', data=spotify_data_cleaned)\n",
    "plt.title('Scatter Plot of Danceability vs Energy')\n",
    "plt.xlabel('Danceability (%)')\n",
    "plt.ylabel('Energy (%)')\n",
    "plt.show()\n"
   ]
  },
  {
   "cell_type": "code",
   "execution_count": null,
   "metadata": {},
   "outputs": [],
   "source": [
    "# Visualize the correlation matrix \n",
    "correlation_matrix = spotify_data_cleaned[['danceability_%', 'energy_%']].corr()\n",
    "\n",
    "plt.figure(figsize=(6, 4))\n",
    "sns.heatmap(correlation_matrix, annot=True, cmap='Blues', fmt='.2f')\n",
    "plt.title('Correlation Matrix for Danceability and Energy')\n",
    "plt.show()"
   ]
  },
  {
   "cell_type": "markdown",
   "metadata": {},
   "source": [
    "<span style=\"color: #B8860B; font-weight: bold\">Insight:</span>\n",
    "\n",
    "The correlation matrix shows a weak positive correlation of 0.20 between *danceability_%* and *energy_%*. This means that as the energy level of a song increases, its danceability slightly increases, but the relationship isn't strong. In simple terms, energy and danceability aren't closely tied together, so a high-energy song won't always be more danceable."
   ]
  },
  {
   "cell_type": "markdown",
   "metadata": {},
   "source": [
    "#### Correlation between valence_% and acousticness_%:"
   ]
  },
  {
   "cell_type": "code",
   "execution_count": null,
   "metadata": {},
   "outputs": [],
   "source": [
    "# Ensure the relevant columns ('valence_%', 'acousticness_%') are numeric\n",
    "df['valence_%'] = pd.to_numeric(df['valence_%'], errors='coerce')\n",
    "df['acousticness_%'] = pd.to_numeric(df['acousticness_%'], errors='coerce')\n",
    "\n",
    "# Drop rows with missing values in the relevant columns\n",
    "df_cleaned = df.dropna(subset=['valence_%', 'acousticness_%'])\n",
    "\n",
    "# Compute the correlation between valence_% and acousticness_%\n",
    "correlation_value = df_cleaned['valence_%'].corr(df_cleaned['acousticness_%'])\n",
    "\n",
    "# Display the correlation value\n",
    "print(f\"Correlation between Valence and Acousticness: {correlation_value:.2f}\")"
   ]
  },
  {
   "cell_type": "code",
   "execution_count": null,
   "metadata": {},
   "outputs": [],
   "source": [
    "# Visualize the correlation with a scatter plot\n",
    "plt.figure(figsize=(8, 6))\n",
    "sns.scatterplot(x='valence_%', y='acousticness_%', data=df_cleaned)\n",
    "plt.title('Scatter Plot of Valence vs Acousticness')\n",
    "plt.xlabel('Valence (%)')\n",
    "plt.ylabel('Acousticness (%)')\n",
    "plt.show()"
   ]
  },
  {
   "cell_type": "code",
   "execution_count": null,
   "metadata": {},
   "outputs": [],
   "source": [
    "# Visualize the correlation matrix (for additional context)\n",
    "correlation_matrix = df_cleaned[['valence_%', 'acousticness_%']].corr()\n",
    "\n",
    "plt.figure(figsize=(6, 4))\n",
    "sns.heatmap(correlation_matrix, annot=True, cmap='Blues', fmt='.2f')\n",
    "plt.title('Correlation Matrix for Valence and Acousticness')\n",
    "plt.show()"
   ]
  },
  {
   "cell_type": "markdown",
   "metadata": {},
   "source": [
    "<span style=\"color: #B8860B; font-weight: bold\">Insight:</span>\n",
    "\n",
    "The correlation matrix shows a very weak negative correlation of -0.08 between *valence_%* (happiness or positivity) and *acousticness_%*. This means that there is almost no relationship between how positive a song feels and how acoustic it is. In simple terms, whether a song is more acoustic or not doesn't really affect its overall mood or positivity level."
   ]
  },
  {
   "cell_type": "markdown",
   "metadata": {},
   "source": [
    "### <span style=\"color: #2e86c1; font-size: 24px;\">6. Platform Popularity</span>\n",
    "\n",
    "<span style=\"color: #5d6d7e;\"> How do the numbers of tracks in spotify_playlists, spotify_charts, and apple_playlists compare? Which platform seems to favor the most popular tracks?"
   ]
  },
  {
   "cell_type": "code",
   "execution_count": null,
   "metadata": {},
   "outputs": [],
   "source": [
    "# Convert columns to numeric and coercing errors\n",
    "playlist_cols = ['in_spotify_playlists', 'in_spotify_charts', 'in_apple_playlists']\n",
    "df[playlist_cols] = df[playlist_cols].apply(pd.to_numeric, errors='coerce')\n",
    "\n",
    "# Summarize the number of tracks in Spotify Playlists, Spotify Charts, and Apple Playlists\n",
    "playlist_comparison = df[playlist_cols].sum()\n",
    "\n",
    "# Convert the Series to DataFrame for HTML representation\n",
    "playlist_comparison_df = playlist_comparison.to_frame(name='Number of Tracks').reset_index()\n",
    "playlist_comparison_df.columns = ['Platform', 'Number of Tracks']  # Rename columns for clarity\n",
    "\n",
    "# Create HTML table from DataFrame\n",
    "html_table = playlist_comparison_df.to_html(classes='table', index=False)\n",
    "\n",
    "# Add minimalistic CSS for styling\n",
    "css = \"\"\"\n",
    "<style>\n",
    "    .table {\n",
    "        width: 60%;\n",
    "        margin: 20px auto;\n",
    "        border-collapse: collapse;\n",
    "        font-family: Arial, sans-serif;\n",
    "        background-color: #f7f7f7;\n",
    "    }\n",
    "    .table th {\n",
    "        background-color: #e0e0e0;\n",
    "        font-weight: bold;\n",
    "        font-size: 14px;\n",
    "        color: #333;\n",
    "    }\n",
    "    .table td {\n",
    "        background-color: #f9f9f9;\n",
    "        color: #1a1a1a;\n",
    "    }\n",
    "    .table th, .table td {\n",
    "        border: 1px solid #ccc;\n",
    "        text-align: center;\n",
    "        padding: 8px;\n",
    "    }\n",
    "    .table tr:nth-child(even) td {\n",
    "        background-color: #f1f1f1;\n",
    "    }\n",
    "    .table tr:hover td {\n",
    "        background-color: #e9e9e9;\n",
    "    }\n",
    "</style>\n",
    "\"\"\"\n",
    "\n",
    "# Display the table with the custom styling\n",
    "display(HTML(css + html_table))"
   ]
  },
  {
   "cell_type": "markdown",
   "metadata": {},
   "source": [
    "<span style=\"color: #5d6d7e;\">Plot: Comparison of Tracks in Spotify Playlists, Spotify Charts, and Apple Playlists</span>"
   ]
  },
  {
   "cell_type": "code",
   "execution_count": null,
   "metadata": {},
   "outputs": [],
   "source": [
    "# Bar chart for the number of tracks across platforms\n",
    "plt.figure(figsize=(10, 6))\n",
    "playlist_comparison.plot(kind='bar', color=['blue', 'orange', 'green'])\n",
    "plt.title('Comparison of Tracks in Spotify Playlists, Spotify Charts, and Apple Playlists')\n",
    "plt.ylabel('Number of Tracks')\n",
    "plt.xticks(rotation=0)\n",
    "plt.show()"
   ]
  },
  {
   "cell_type": "code",
   "execution_count": null,
   "metadata": {},
   "outputs": [],
   "source": [
    "# Which platform favors the most popular tracks?\n",
    "most_popular_platform = playlist_comparison.idxmax()\n",
    "most_tracks = playlist_comparison.max()\n",
    "print(f\"\\nThe platform that favors the most popular tracks is: {most_popular_platform}, with {most_tracks} tracks.\")"
   ]
  },
  {
   "cell_type": "markdown",
   "metadata": {},
   "source": [
    "<span style=\"color: #B8860B; font-weight: bold\">Insight:</span>\n",
    "\n",
    "The bar chart shows that <span style=\"color: #3498db;\">*Spotify Playlists*</span> have a significantly higher number of tracks having <span style=\"color: #3498db;\">4,955,719</span> tracks compared to *Spotify Charts* and *Apple Playlists*, which have a much smaller number. This suggests that while Spotify Playlists contain a large variety of tracks, *Spotify Charts* and *Apple Playlists* seem to focus on a smaller selection of the most popular songs. Overall, *Spotify Charts* likely represent the most popular tracks since the number is limited, indicating a higher focus on top-performing songs."
   ]
  },
  {
   "cell_type": "markdown",
   "metadata": {},
   "source": [
    "### <span style=\"color: #2e86c1; font-size: 24px;\">7. Advanced Analysis</span>\n",
    "\n",
    "#### 7.1 <span style=\"color: #5d6d7e;\"> Based on the streams data, can you identify any patterns among tracks with the same key or mode (Major vs Minor) \n"
   ]
  },
  {
   "cell_type": "code",
   "execution_count": null,
   "metadata": {},
   "outputs": [],
   "source": [
    "# Group by key and mode, aggregating streams data\n",
    "key_mode_analysis = df.groupby(['key', 'mode'])['streams'].agg(['mean', 'sum', 'count']).reset_index()\n",
    "\n",
    "# Create a bar plot for average streams by key and mode\n",
    "plt.figure(figsize=(12, 6))\n",
    "sns.barplot(data=key_mode_analysis, x='key', y='mean', hue='mode', palette='muted')\n",
    "plt.title('Average Streams by Key and Mode', fontsize=16)\n",
    "plt.xlabel('Key', fontsize=14)\n",
    "plt.ylabel('Average Streams', fontsize=14)\n",
    "plt.legend(title='Mode', fontsize=12)\n",
    "plt.grid(True, linestyle='--', alpha=0.7)\n",
    "\n",
    "# Display the plot\n",
    "plt.tight_layout()\n",
    "plt.show()"
   ]
  },
  {
   "cell_type": "markdown",
   "metadata": {},
   "source": [
    "<span style=\"color: #B8860B; font-weight: bold\">Insight:</span>\n",
    "\n",
    "E major and F sharp minor tracks are racking up the most streams, showing they really click with listeners. On the flip side, A major and G sharp minor seem to be falling flat with the lowest streams. This suggests that the choice of key can play a big role in how well a track performs. Artists and producers might want to pay attention to these trends to create music that resonates more with their audience."
   ]
  },
  {
   "cell_type": "markdown",
   "metadata": {},
   "source": [
    "#### 7.2 <span style=\"color: #5d6d7e;\"> Do certain genres or artists consistently appear in more playlists or charts? Perform an analysis to compare the most frequently appearing artists in playlists or charts. \n"
   ]
  },
  {
   "cell_type": "code",
   "execution_count": null,
   "metadata": {},
   "outputs": [],
   "source": [
    "# Group the data by the correct artist column and sum the number of playlists and charts\n",
    "artist_playlist_chart_counts = df.groupby('artist(s)_name')[['in_spotify_playlists', 'in_apple_playlists', 'in_spotify_charts']].sum().reset_index()\n",
    "\n",
    "# Sort the artists by their total appearances in playlists or charts\n",
    "artist_playlist_chart_counts['total_appearances'] = artist_playlist_chart_counts[['in_spotify_playlists', 'in_apple_playlists', 'in_spotify_charts']].sum(axis=1)\n",
    "top_artists = artist_playlist_chart_counts.sort_values(by='total_appearances', ascending=False).head(10)\n",
    "\n",
    "# Plot the top 10 artists and their appearances in playlists and charts\n",
    "plt.figure(figsize=(12, 6))\n",
    "top_artists.set_index('artist(s)_name')[['in_spotify_playlists', 'in_apple_playlists', 'in_spotify_charts']].plot(kind='bar', stacked=True, color=['blue', 'green', 'orange'], figsize=(12, 6))\n",
    "plt.title('Top 10 Artists by Appearances in Playlists and Charts')\n",
    "plt.xlabel('Artist')\n",
    "plt.ylabel('Number of Appearances')\n",
    "plt.xticks(rotation=45)\n",
    "plt.legend(title='Playlists/Charts')\n",
    "plt.tight_layout()\n",
    "plt.show()"
   ]
  },
  {
   "cell_type": "markdown",
   "metadata": {},
   "source": [
    "<span style=\"color: #B8860B; font-weight: bold\">Insight:</span>\n",
    "\n",
    "This chart highlights the top 10 artists by their appearances on Spotify and Apple platforms, with The Weeknd, Taylor Swift, and Ed Sheeran leading the list. Most artists come from pop, rap, or rock genres, which consistently dominate playlists and charts. Additionally, the data shows that Spotify playlists generally offer more exposure than Apple playlists or Spotify charts, with only minor differences in appearances."
   ]
  }
 ],
 "metadata": {
  "kernelspec": {
   "display_name": "Python 3 (ipykernel)",
   "language": "python",
   "name": "python3"
  },
  "language_info": {
   "codemirror_mode": {
    "name": "ipython",
    "version": 3
   },
   "file_extension": ".py",
   "mimetype": "text/x-python",
   "name": "python",
   "nbconvert_exporter": "python",
   "pygments_lexer": "ipython3",
   "version": "3.12.4"
  }
 },
 "nbformat": 4,
 "nbformat_minor": 4
}
